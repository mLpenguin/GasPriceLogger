{
 "cells": [
  {
   "cell_type": "code",
   "execution_count": 2,
   "id": "2244abb0",
   "metadata": {},
   "outputs": [],
   "source": [
    "#import requests\n",
    "\n",
    "#import time\n",
    "\n",
    "from selenium import webdriver\n",
    "from selenium.webdriver.common.by import By\n",
    "from selenium.webdriver.chrome.service import Service\n",
    "#from selenium.webdriver.support import expected_conditions as EC\n",
    "#from selenium.webdriver.support.ui import WebDriverWait\n",
    "from webdriver_manager.chrome import ChromeDriverManager\n",
    "#from selenium.webdriver import ActionChains\n",
    "import pandas as pd\n",
    "\n",
    "import csv\n",
    "import os.path\n",
    "import datetime\n",
    "\n",
    "import sys #import args\n",
    "import os"
   ]
  },
  {
   "cell_type": "code",
   "execution_count": 3,
   "id": "9dc2cb60",
   "metadata": {},
   "outputs": [],
   "source": [
    "df = pd.read_csv ('Safeway_in_Roseville_(989_Sunrise_Ave).txt')"
   ]
  },
  {
   "cell_type": "code",
   "execution_count": 14,
   "id": "1c1e323d",
   "metadata": {},
   "outputs": [
    {
     "data": {
      "text/html": [
       "<div>\n",
       "<style scoped>\n",
       "    .dataframe tbody tr th:only-of-type {\n",
       "        vertical-align: middle;\n",
       "    }\n",
       "\n",
       "    .dataframe tbody tr th {\n",
       "        vertical-align: top;\n",
       "    }\n",
       "\n",
       "    .dataframe thead th {\n",
       "        text-align: right;\n",
       "    }\n",
       "</style>\n",
       "<table border=\"1\" class=\"dataframe\">\n",
       "  <thead>\n",
       "    <tr style=\"text-align: right;\">\n",
       "      <th></th>\n",
       "      <th>Date</th>\n",
       "      <th>Payment_Type</th>\n",
       "      <th>Type</th>\n",
       "      <th>Price</th>\n",
       "    </tr>\n",
       "  </thead>\n",
       "  <tbody>\n",
       "    <tr>\n",
       "      <th>0</th>\n",
       "      <td>06-13-2022</td>\n",
       "      <td>CASH</td>\n",
       "      <td>Regular</td>\n",
       "      <td>$6.28</td>\n",
       "    </tr>\n",
       "    <tr>\n",
       "      <th>1</th>\n",
       "      <td>06-13-2022</td>\n",
       "      <td>CASH</td>\n",
       "      <td>Premium</td>\n",
       "      <td>$6.63</td>\n",
       "    </tr>\n",
       "    <tr>\n",
       "      <th>2</th>\n",
       "      <td>06-13-2022</td>\n",
       "      <td>CASH</td>\n",
       "      <td>Diesel</td>\n",
       "      <td>$6.88</td>\n",
       "    </tr>\n",
       "    <tr>\n",
       "      <th>3</th>\n",
       "      <td>06-13-2022</td>\n",
       "      <td>CARD</td>\n",
       "      <td>Regular</td>\n",
       "      <td>$6.38</td>\n",
       "    </tr>\n",
       "    <tr>\n",
       "      <th>4</th>\n",
       "      <td>06-13-2022</td>\n",
       "      <td>CARD</td>\n",
       "      <td>Premium</td>\n",
       "      <td>$6.73</td>\n",
       "    </tr>\n",
       "    <tr>\n",
       "      <th>5</th>\n",
       "      <td>06-13-2022</td>\n",
       "      <td>CARD</td>\n",
       "      <td>Diesel</td>\n",
       "      <td>$6.98</td>\n",
       "    </tr>\n",
       "  </tbody>\n",
       "</table>\n",
       "</div>"
      ],
      "text/plain": [
       "         Date Payment_Type     Type  Price\n",
       "0  06-13-2022         CASH  Regular  $6.28\n",
       "1  06-13-2022         CASH  Premium  $6.63\n",
       "2  06-13-2022         CASH   Diesel  $6.88\n",
       "3  06-13-2022         CARD  Regular  $6.38\n",
       "4  06-13-2022         CARD  Premium  $6.73\n",
       "5  06-13-2022         CARD   Diesel  $6.98"
      ]
     },
     "execution_count": 14,
     "metadata": {},
     "output_type": "execute_result"
    }
   ],
   "source": [
    "df.head(6)"
   ]
  },
  {
   "cell_type": "code",
   "execution_count": 46,
   "id": "0bc88a50",
   "metadata": {},
   "outputs": [
    {
     "data": {
      "text/html": [
       "<div>\n",
       "<style scoped>\n",
       "    .dataframe tbody tr th:only-of-type {\n",
       "        vertical-align: middle;\n",
       "    }\n",
       "\n",
       "    .dataframe tbody tr th {\n",
       "        vertical-align: top;\n",
       "    }\n",
       "\n",
       "    .dataframe thead th {\n",
       "        text-align: right;\n",
       "    }\n",
       "</style>\n",
       "<table border=\"1\" class=\"dataframe\">\n",
       "  <thead>\n",
       "    <tr style=\"text-align: right;\">\n",
       "      <th></th>\n",
       "      <th>Date</th>\n",
       "      <th>Payment_Type</th>\n",
       "      <th>Type</th>\n",
       "      <th>Price</th>\n",
       "    </tr>\n",
       "  </thead>\n",
       "  <tbody>\n",
       "    <tr>\n",
       "      <th>3</th>\n",
       "      <td>06-13-2022</td>\n",
       "      <td>CARD</td>\n",
       "      <td>Regular</td>\n",
       "      <td>$6.38</td>\n",
       "    </tr>\n",
       "    <tr>\n",
       "      <th>4</th>\n",
       "      <td>06-13-2022</td>\n",
       "      <td>CARD</td>\n",
       "      <td>Premium</td>\n",
       "      <td>$6.73</td>\n",
       "    </tr>\n",
       "    <tr>\n",
       "      <th>5</th>\n",
       "      <td>06-13-2022</td>\n",
       "      <td>CARD</td>\n",
       "      <td>Diesel</td>\n",
       "      <td>$6.98</td>\n",
       "    </tr>\n",
       "    <tr>\n",
       "      <th>9</th>\n",
       "      <td>06-14-2022</td>\n",
       "      <td>CARD</td>\n",
       "      <td>Regular</td>\n",
       "      <td>$6.38</td>\n",
       "    </tr>\n",
       "    <tr>\n",
       "      <th>10</th>\n",
       "      <td>06-14-2022</td>\n",
       "      <td>CARD</td>\n",
       "      <td>Premium</td>\n",
       "      <td>$6.83</td>\n",
       "    </tr>\n",
       "    <tr>\n",
       "      <th>11</th>\n",
       "      <td>06-14-2022</td>\n",
       "      <td>CARD</td>\n",
       "      <td>Diesel</td>\n",
       "      <td>$6.98</td>\n",
       "    </tr>\n",
       "    <tr>\n",
       "      <th>15</th>\n",
       "      <td>06-15-2022</td>\n",
       "      <td>CARD</td>\n",
       "      <td>Regular</td>\n",
       "      <td>$6.38</td>\n",
       "    </tr>\n",
       "    <tr>\n",
       "      <th>16</th>\n",
       "      <td>06-15-2022</td>\n",
       "      <td>CARD</td>\n",
       "      <td>Premium</td>\n",
       "      <td>$6.77</td>\n",
       "    </tr>\n",
       "    <tr>\n",
       "      <th>17</th>\n",
       "      <td>06-15-2022</td>\n",
       "      <td>CARD</td>\n",
       "      <td>Diesel</td>\n",
       "      <td>$6.98</td>\n",
       "    </tr>\n",
       "    <tr>\n",
       "      <th>21</th>\n",
       "      <td>06-16-2022</td>\n",
       "      <td>CARD</td>\n",
       "      <td>Regular</td>\n",
       "      <td>$6.28</td>\n",
       "    </tr>\n",
       "    <tr>\n",
       "      <th>22</th>\n",
       "      <td>06-15-2022</td>\n",
       "      <td>CARD</td>\n",
       "      <td>Premium</td>\n",
       "      <td>$6.67</td>\n",
       "    </tr>\n",
       "    <tr>\n",
       "      <th>23</th>\n",
       "      <td>06-15-2022</td>\n",
       "      <td>CARD</td>\n",
       "      <td>Diesel</td>\n",
       "      <td>$6.88</td>\n",
       "    </tr>\n",
       "    <tr>\n",
       "      <th>27</th>\n",
       "      <td>06-17-2022</td>\n",
       "      <td>CARD</td>\n",
       "      <td>Regular</td>\n",
       "      <td>$6.28</td>\n",
       "    </tr>\n",
       "    <tr>\n",
       "      <th>28</th>\n",
       "      <td>06-17-2022</td>\n",
       "      <td>CARD</td>\n",
       "      <td>Premium</td>\n",
       "      <td>$6.67</td>\n",
       "    </tr>\n",
       "    <tr>\n",
       "      <th>29</th>\n",
       "      <td>06-17-2022</td>\n",
       "      <td>CARD</td>\n",
       "      <td>Diesel</td>\n",
       "      <td>$6.88</td>\n",
       "    </tr>\n",
       "    <tr>\n",
       "      <th>31</th>\n",
       "      <td>06-17-2022</td>\n",
       "      <td>CARD</td>\n",
       "      <td>Regular</td>\n",
       "      <td>$6.27</td>\n",
       "    </tr>\n",
       "    <tr>\n",
       "      <th>35</th>\n",
       "      <td>06-19-2022</td>\n",
       "      <td>CARD</td>\n",
       "      <td>Regular</td>\n",
       "      <td>$6.27</td>\n",
       "    </tr>\n",
       "    <tr>\n",
       "      <th>36</th>\n",
       "      <td>06-19-2022</td>\n",
       "      <td>CARD</td>\n",
       "      <td>Premium</td>\n",
       "      <td>NaN</td>\n",
       "    </tr>\n",
       "    <tr>\n",
       "      <th>37</th>\n",
       "      <td>06-19-2022</td>\n",
       "      <td>CARD</td>\n",
       "      <td>Diesel</td>\n",
       "      <td>NaN</td>\n",
       "    </tr>\n",
       "  </tbody>\n",
       "</table>\n",
       "</div>"
      ],
      "text/plain": [
       "          Date Payment_Type     Type   Price\n",
       "3   06-13-2022         CARD  Regular   $6.38\n",
       "4   06-13-2022         CARD  Premium   $6.73\n",
       "5   06-13-2022         CARD   Diesel   $6.98\n",
       "9   06-14-2022         CARD  Regular   $6.38\n",
       "10  06-14-2022         CARD  Premium   $6.83\n",
       "11  06-14-2022         CARD   Diesel   $6.98\n",
       "15  06-15-2022         CARD  Regular  $6.38 \n",
       "16  06-15-2022         CARD  Premium  $6.77 \n",
       "17  06-15-2022         CARD   Diesel  $6.98 \n",
       "21  06-16-2022         CARD  Regular   $6.28\n",
       "22  06-15-2022         CARD  Premium   $6.67\n",
       "23  06-15-2022         CARD   Diesel   $6.88\n",
       "27  06-17-2022         CARD  Regular   $6.28\n",
       "28  06-17-2022         CARD  Premium   $6.67\n",
       "29  06-17-2022         CARD   Diesel   $6.88\n",
       "31  06-17-2022         CARD  Regular   $6.27\n",
       "35  06-19-2022         CARD  Regular   $6.27\n",
       "36  06-19-2022         CARD  Premium     NaN\n",
       "37  06-19-2022         CARD   Diesel     NaN"
      ]
     },
     "execution_count": 46,
     "metadata": {},
     "output_type": "execute_result"
    }
   ],
   "source": [
    "df1 = df[df[\"Payment_Type\"].str.contains(\"CARD\")]\n",
    "#df1.set_index('Date', inplace=True)\n",
    "df1"
   ]
  },
  {
   "cell_type": "code",
   "execution_count": 17,
   "id": "bdc5921f",
   "metadata": {},
   "outputs": [
    {
     "data": {
      "text/plain": [
       "array(['Regular', 'Premium', 'Diesel'], dtype=object)"
      ]
     },
     "execution_count": 17,
     "metadata": {},
     "output_type": "execute_result"
    }
   ],
   "source": [
    "df1[\"Type\"].unique()"
   ]
  },
  {
   "cell_type": "code",
   "execution_count": 54,
   "id": "c482edf4",
   "metadata": {},
   "outputs": [
    {
     "data": {
      "text/plain": [
       "['Date', 'Regular', 'Premium', 'Diesel', 'Price']"
      ]
     },
     "execution_count": 54,
     "metadata": {},
     "output_type": "execute_result"
    }
   ],
   "source": [
    "Columns = ['Date']\n",
    "\n",
    "for x in range(len(df1[\"Type\"].unique())):\n",
    "    Columns.append(df1[\"Type\"].unique()[x])\n",
    "\n",
    "Columns.append('Price')\n",
    "Columns"
   ]
  },
  {
   "cell_type": "code",
   "execution_count": 55,
   "id": "b578dd46",
   "metadata": {},
   "outputs": [
    {
     "name": "stdout",
     "output_type": "stream",
     "text": [
      "06-13-2022\n",
      "06-14-2022\n",
      "06-15-2022\n",
      "06-16-2022\n",
      "06-17-2022\n",
      "06-18-2022\n",
      "06-19-2022\n"
     ]
    }
   ],
   "source": [
    "df1 = df[df[\"Payment_Type\"].str.contains(\"CARD\")]\n",
    "#Get Dates\n",
    "dates = df[\"Date\"].unique()\n",
    "\n",
    "#Create Columns Names\n",
    "Columns = ['Date']\n",
    "\n",
    "for x in range(len(df1[\"Type\"].unique())):\n",
    "    Columns.append(df1[\"Type\"].unique()[x])\n",
    "\n",
    "Columns.append('Price')\n",
    "\n",
    "\n",
    "#Create Df\n",
    "for x in range(len(dates)):\n",
    "    print(dates[x])\n",
    "    df2 = df1[df1[\"Date\"].str.contains(dates[x])]"
   ]
  },
  {
   "cell_type": "code",
   "execution_count": 59,
   "id": "d84e3f3d",
   "metadata": {},
   "outputs": [
    {
     "name": "stdout",
     "output_type": "stream",
     "text": [
      "Regular\n",
      "Premium\n",
      "Diesel\n"
     ]
    }
   ],
   "source": [
    "date = \"06-13-2022\"\n",
    "df2 = df1[df1[\"Date\"].str.contains(date)]\n",
    "for i in range(len(df2)):\n",
    "    #df2.iloc[i]\n",
    "    Type = df2.iloc[i]['Type']\n",
    "    Price = df2.iloc[i]['Price']"
   ]
  },
  {
   "cell_type": "code",
   "execution_count": 61,
   "id": "f96d6ea5",
   "metadata": {},
   "outputs": [],
   "source": [
    "final = pd.DataFrame([], columns=Columns)"
   ]
  },
  {
   "cell_type": "code",
   "execution_count": 62,
   "id": "49179d22",
   "metadata": {},
   "outputs": [
    {
     "data": {
      "text/html": [
       "<div>\n",
       "<style scoped>\n",
       "    .dataframe tbody tr th:only-of-type {\n",
       "        vertical-align: middle;\n",
       "    }\n",
       "\n",
       "    .dataframe tbody tr th {\n",
       "        vertical-align: top;\n",
       "    }\n",
       "\n",
       "    .dataframe thead th {\n",
       "        text-align: right;\n",
       "    }\n",
       "</style>\n",
       "<table border=\"1\" class=\"dataframe\">\n",
       "  <thead>\n",
       "    <tr style=\"text-align: right;\">\n",
       "      <th></th>\n",
       "      <th>Date</th>\n",
       "      <th>Regular</th>\n",
       "      <th>Premium</th>\n",
       "      <th>Diesel</th>\n",
       "      <th>Price</th>\n",
       "    </tr>\n",
       "  </thead>\n",
       "  <tbody>\n",
       "  </tbody>\n",
       "</table>\n",
       "</div>"
      ],
      "text/plain": [
       "Empty DataFrame\n",
       "Columns: [Date, Regular, Premium, Diesel, Price]\n",
       "Index: []"
      ]
     },
     "execution_count": 62,
     "metadata": {},
     "output_type": "execute_result"
    }
   ],
   "source": [
    "final"
   ]
  },
  {
   "cell_type": "code",
   "execution_count": null,
   "id": "4dd3868a",
   "metadata": {},
   "outputs": [],
   "source": [
    "final.loc[len(final.index)] = ['Amy', 89, 93] "
   ]
  }
 ],
 "metadata": {
  "kernelspec": {
   "display_name": "Python 3 (ipykernel)",
   "language": "python",
   "name": "python3"
  },
  "language_info": {
   "codemirror_mode": {
    "name": "ipython",
    "version": 3
   },
   "file_extension": ".py",
   "mimetype": "text/x-python",
   "name": "python",
   "nbconvert_exporter": "python",
   "pygments_lexer": "ipython3",
   "version": "3.9.7"
  }
 },
 "nbformat": 4,
 "nbformat_minor": 5
}
