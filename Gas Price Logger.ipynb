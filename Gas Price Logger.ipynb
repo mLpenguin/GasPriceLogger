{
 "cells": [
  {
   "cell_type": "code",
   "execution_count": 2,
   "id": "a43944e2",
   "metadata": {},
   "outputs": [],
   "source": [
    "#import requests\n",
    "\n",
    "#import time\n",
    "\n",
    "from selenium import webdriver\n",
    "from selenium.webdriver.common.by import By\n",
    "from selenium.webdriver.chrome.service import Service\n",
    "#from selenium.webdriver.support import expected_conditions as EC\n",
    "#from selenium.webdriver.support.ui import WebDriverWait\n",
    "from webdriver_manager.chrome import ChromeDriverManager\n",
    "#from selenium.webdriver import ActionChains\n",
    "import pandas as pd\n",
    "\n",
    "import csv\n",
    "import os.path\n",
    "import datetime\n",
    "\n",
    "import sys #import args"
   ]
  },
  {
   "cell_type": "code",
   "execution_count": 3,
   "id": "35e6cb08",
   "metadata": {},
   "outputs": [],
   "source": [
    "def subtractDays(numOfDays):\n",
    "    now = datetime.datetime.now()\n",
    "    days = datetime.timedelta(numOfDays)\n",
    "    \n",
    "    new_date = now - days\n",
    "    return new_date.strftime(\"%m-%d-%Y\")"
   ]
  },
  {
   "cell_type": "code",
   "execution_count": 4,
   "id": "15085a31",
   "metadata": {},
   "outputs": [],
   "source": [
    "def calculateDate(timeAgo):\n",
    "\n",
    "    locOfDays = timeAgo.find('day')\n",
    "    if (locOfDays!=-1):\n",
    "        numOfDays = int(timeAgo[:locOfDays-1])\n",
    "        #print(len(test[:locOfDays-1]))\n",
    "        return subtractDays(numOfDays)\n",
    "    else:\n",
    "        return subtractDays(0)"
   ]
  },
  {
   "cell_type": "code",
   "execution_count": 5,
   "id": "38f23192",
   "metadata": {},
   "outputs": [],
   "source": [
    "def readCSV(fileName):\n",
    "    outputArray = []\n",
    "    with open(fileName, 'r') as file:\n",
    "        reader = csv.reader(file, quoting=csv.QUOTE_ALL, skipinitialspace=True)\n",
    "        next(reader, None)  # skip the headers\n",
    "        \n",
    "        for row in reader:\n",
    "            temp = []\n",
    "            for i in range(0,len(row)):\n",
    "                if row[i] != '':\n",
    "                    temp.append(row[i])\n",
    "            #print (row[0])\n",
    "            outputArray.append(temp)\n",
    "    return outputArray"
   ]
  },
  {
   "cell_type": "code",
   "execution_count": 6,
   "id": "18b41ad4",
   "metadata": {},
   "outputs": [],
   "source": [
    "def writeCSV(header, rows, filename, newFile=True):\n",
    "\n",
    "    with open(filename, 'a', newline='') as csvfile: \n",
    "        # creating a csv writer object \n",
    "        csvwriter = csv.writer(csvfile) \n",
    "        \n",
    "        if (newFile):\n",
    "            # writing the fields \n",
    "            csvwriter.writerow(header) \n",
    "\n",
    "        # writing the data rows \n",
    "        csvwriter.writerows(rows)"
   ]
  },
  {
   "cell_type": "code",
   "execution_count": 33,
   "id": "f4b7d530",
   "metadata": {},
   "outputs": [],
   "source": [
    "def dataframe_difference(df1, df2, which=None):\n",
    "    \"\"\"Find rows which are different between two DataFrames.\"\"\"\n",
    "    comparison_df = df1.merge(\n",
    "        df2,\n",
    "        indicator=True,\n",
    "        how='outer'\n",
    "    )\n",
    "    if which is None:\n",
    "        diff_df = comparison_df[comparison_df['_merge'] != 'both']\n",
    "    else:\n",
    "        diff_df = comparison_df[comparison_df['_merge'] == which]\n",
    "    #diff_df.to_csv('data/diff.csv')\n",
    "    return diff_df"
   ]
  },
  {
   "cell_type": "code",
   "execution_count": 7,
   "id": "a3eac22e",
   "metadata": {},
   "outputs": [],
   "source": [
    "#STATION_URL = \"https://www.gasbuddy.com/station/36156\""
   ]
  },
  {
   "cell_type": "code",
   "execution_count": 8,
   "id": "92813283",
   "metadata": {
    "scrolled": true
   },
   "outputs": [],
   "source": [
    "def getData(STATION_URL):\n",
    "\n",
    "    #STATION_URL = \"https://www.gasbuddy.com/station/38348\"\n",
    "\n",
    "    options = webdriver.ChromeOptions()\n",
    "    options.add_argument(\"--disable-blink-features=AutomationControlled\")\n",
    "    browser = webdriver.Chrome(service=Service(ChromeDriverManager().install()), options=options)\n",
    "    browser.get(STATION_URL)\n",
    "\n",
    "    #Parse Data\n",
    "    prices = browser.find_elements(By.CSS_SELECTOR,\".text__xl___2MXGo.text__bold___1C6Z_.text__left___1iOw3.FuelTypePriceDisplay-module__price___3iizb\")\n",
    "    types = browser.find_elements(By.CSS_SELECTOR, \".text__left___1iOw3.GasPriceCollection-module__fuelTypeDisplay___eE6tM\")\n",
    "    times = browser.find_elements(By.CSS_SELECTOR, \".text__sm___1q2rU.text__left___1iOw3.FuelTypePriceDisplay-module__reportedTime___1Zinr.FuelTypePriceDisplay-module__reportedGrey___g8pgI\")\n",
    "    statonName = browser.find_element(By.CSS_SELECTOR, \".header__header1___3U_VP.header__header___1zII0\").text\n",
    "\n",
    "    pricesTxt = []\n",
    "    timesTxt = []\n",
    "    timesCounter = 0\n",
    "    for x in range(len(prices)):\n",
    "        if (prices[x].text == '- - -'):\n",
    "            pricesTxt.append('N/A')\n",
    "            timesTxt.append('NO DATA')\n",
    "        else: \n",
    "            pricesTxt.append(prices[x].text)\n",
    "            timesTxt.append(times[timesCounter].text)\n",
    "            timesCounter+=1\n",
    "\n",
    "    typesTxt = []\n",
    "    for x in range(len(types)):\n",
    "        typesTxt.append(types[x].text)\n",
    "\n",
    "\n",
    "    print(len(pricesTxt))\n",
    "    print(len(typesTxt))\n",
    "    print(len(timesTxt))\n",
    "    print(statonName)\n",
    "\n",
    "    print(pricesTxt[0])\n",
    "    print(typesTxt[0])\n",
    "    print(timesTxt[0])\n",
    "    print(statonName)\n",
    "\n",
    "    #Build Array\n",
    "    data = []\n",
    "\n",
    "    if(len(prices) == len(types)):\n",
    "\n",
    "        for x in range(len(prices)):\n",
    "\n",
    "            date  = calculateDate(timesTxt[x])\n",
    "\n",
    "\n",
    "            temp = [date, typesTxt[x], pricesTxt[x]]\n",
    "            data.append(temp)\n",
    "\n",
    "        header = ['Date','Type','Price']\n",
    "    else:\n",
    "\n",
    "        for x in range(len(typesTxt)):\n",
    "\n",
    "            date  = calculateDate(timesTxt[x])\n",
    "            temp = [date, 'CASH', typesTxt[x], pricesTxt[x]]\n",
    "            data.append(temp)\n",
    "\n",
    "        for x in range(len(typesTxt)):\n",
    "\n",
    "            date  = calculateDate(timesTxt[x+len(typesTxt)])\n",
    "            temp = [date, 'CARD', typesTxt[x], pricesTxt[x]]\n",
    "            data.append(temp)\n",
    "        header = ['Date','Payment_Type','Type','Price']\n",
    "\n",
    "    #Remove Unknown Values\n",
    "    df = pd.DataFrame(data)\n",
    "    df = df[df.iloc[:, 0] != 'N/A']\n",
    "    data = df.values.tolist()\n",
    "\n",
    "    data\n",
    "\n",
    "    browser.close()\n",
    "    browser.quit()\n",
    "\n",
    "\n",
    "\n",
    "    filename = statonName.replace(' ','_')+'.txt'\n",
    "    print(filename)\n",
    "\n",
    "    #Create new file or Append Data\n",
    "    if (not os.path.isfile(filename)):\n",
    "        writeCSV(header, data, filename)\n",
    "    else: #Import existing data\n",
    "        importedData = readCSV(filename)\n",
    "        df = pd.DataFrame(data)\n",
    "        importedDf = pd.DataFrame(importedData)\n",
    "\n",
    "        #Find date of last entered data\n",
    "        ##LastDateEntry = importedData[-1][-1]\n",
    "        ##print(LastDateEntry)\n",
    "        ##importedDfTrimmed = importedDf[(importedDf == LastDateEntry).any(axis=1)]\n",
    "\n",
    "        importedDfTrimmed = importedDf\n",
    "\n",
    "        #Combine Df\n",
    "        combined = df.append(importedDfTrimmed)\n",
    "\n",
    "        #Remove Duplicates (not needed because of below)\n",
    "        #dupRemoved = combined.drop_duplicates(keep=False)\n",
    "\n",
    "\n",
    "        #Remove Existing Data\n",
    "        dupRemoved = dataframe_difference(importedDfTrimmed, combined).drop(['_merge'], axis=1)\n",
    "        #dupRemoved = dupRemoved[~dupRemoved.isin(importedDfTrimmed)]\n",
    "\n",
    "\n",
    "        #Append Data\n",
    "        dataToAppend = dupRemoved.values.tolist()\n",
    "        print(dataToAppend)\n",
    "        writeCSV(header, dataToAppend, filename,False)\n"
   ]
  },
  {
   "cell_type": "raw",
   "id": "a599351c",
   "metadata": {},
   "source": [
    "'''"
   ]
  },
  {
   "cell_type": "code",
   "execution_count": null,
   "id": "f743a77f",
   "metadata": {},
   "outputs": [],
   "source": [
    "STATION_URL = \"https://www.gasbuddy.com/station/38348\""
   ]
  },
  {
   "cell_type": "code",
   "execution_count": 108,
   "id": "fc4a8a40",
   "metadata": {},
   "outputs": [
    {
     "name": "stderr",
     "output_type": "stream",
     "text": [
      "\n",
      "\n",
      "====== WebDriver manager ======\n",
      "Current google-chrome version is 102.0.5005\n",
      "Get LATEST driver version for 102.0.5005\n",
      "Driver [C:\\Users\\truee\\.wdm\\drivers\\chromedriver\\win32\\102.0.5005.61\\chromedriver.exe] found in cache\n"
     ]
    },
    {
     "name": "stdout",
     "output_type": "stream",
     "text": [
      "3\n",
      "3\n",
      "3\n",
      "Costco in Glendale (17550 N 79th Ave)\n",
      "$5.39\n",
      "Regular\n",
      "41 minutes ago\n",
      "Costco in Glendale (17550 N 79th Ave)\n",
      "Costco_in_Glendale_(17550_N_79th_Ave).txt\n",
      "[]\n"
     ]
    }
   ],
   "source": [
    "options = webdriver.ChromeOptions()\n",
    "options.add_argument(\"--disable-blink-features=AutomationControlled\")\n",
    "browser = webdriver.Chrome(service=Service(ChromeDriverManager().install()), options=options)\n",
    "browser.get(STATION_URL)\n",
    "\n",
    "#Parse Data\n",
    "prices = browser.find_elements(By.CSS_SELECTOR,\".text__xl___2MXGo.text__bold___1C6Z_.text__left___1iOw3.FuelTypePriceDisplay-module__price___3iizb\")\n",
    "types = browser.find_elements(By.CSS_SELECTOR, \".text__left___1iOw3.GasPriceCollection-module__fuelTypeDisplay___eE6tM\")\n",
    "times = browser.find_elements(By.CSS_SELECTOR, \".text__sm___1q2rU.text__left___1iOw3.FuelTypePriceDisplay-module__reportedTime___1Zinr.FuelTypePriceDisplay-module__reportedGrey___g8pgI\")\n",
    "statonName = browser.find_element(By.CSS_SELECTOR, \".header__header1___3U_VP.header__header___1zII0\").text\n",
    "\n",
    "pricesTxt = []\n",
    "timesTxt = []\n",
    "timesCounter = 0\n",
    "for x in range(len(prices)):\n",
    "    if (prices[x].text == '- - -'):\n",
    "        pricesTxt.append('N/A')\n",
    "        timesTxt.append('NO DATA')\n",
    "    else: \n",
    "        pricesTxt.append(prices[x].text)\n",
    "        timesTxt.append(times[timesCounter].text)\n",
    "        timesCounter+=1\n",
    "\n",
    "typesTxt = []\n",
    "for x in range(len(types)):\n",
    "    typesTxt.append(types[x].text)\n",
    "\n",
    "\n",
    "print(len(pricesTxt))\n",
    "print(len(typesTxt))\n",
    "print(len(timesTxt))\n",
    "print(statonName)\n",
    "\n",
    "print(pricesTxt[0])\n",
    "print(typesTxt[0])\n",
    "print(timesTxt[0])\n",
    "print(statonName)\n",
    "\n",
    "#Build Array\n",
    "data = []\n",
    "\n",
    "if(len(prices) == len(types)):\n",
    "\n",
    "    for x in range(len(prices)):\n",
    "\n",
    "        date  = calculateDate(timesTxt[x])\n",
    "\n",
    "\n",
    "        temp = [pricesTxt[x], typesTxt[x], date]\n",
    "        data.append(temp)\n",
    "\n",
    "    header = ['Date','Type','Price']\n",
    "else:\n",
    "\n",
    "    for x in range(len(typesTxt)):\n",
    "\n",
    "        date  = calculateDate(timesTxt[x])\n",
    "        temp = [pricesTxt[x],'CASH', typesTxt[x], date]\n",
    "        data.append(temp)\n",
    "\n",
    "    for x in range(len(typesTxt)):\n",
    "\n",
    "        date  = calculateDate(timesTxt[x+len(typesTxt)])\n",
    "        temp = [pricesTxt[x+len(typesTxt)],'CARD', typesTxt[x], date]\n",
    "        data.append(temp)\n",
    "    header = ['Date','Payment_Type','Type','Price']\n",
    "\n",
    "#Remove Unknown Values\n",
    "df = pd.DataFrame(data)\n",
    "df = df[df.iloc[:, 0] != 'N/A']\n",
    "data = df.values.tolist()\n",
    "\n",
    "data\n",
    "\n",
    "browser.close()\n",
    "browser.quit()\n",
    "\n",
    "\n",
    "\n",
    "filename = statonName.replace(' ','_')+'.txt'\n",
    "print(filename)\n",
    "\n",
    "#Create new file or Append Data\n",
    "if (not os.path.isfile(filename)):\n",
    "    writeCSV(header, data, filename)\n",
    "else: #Import existing data\n",
    "    importedData = readCSV(filename)\n",
    "    df = pd.DataFrame(data)\n",
    "    importedDf = pd.DataFrame(importedData)\n",
    "\n",
    "    #Find date of last entered data\n",
    "    ##LastDateEntry = importedData[-1][-1]\n",
    "    ##print(LastDateEntry)\n",
    "    ##importedDfTrimmed = importedDf[(importedDf == LastDateEntry).any(axis=1)]\n",
    "\n",
    "    importedDfTrimmed = importedDf\n",
    "\n",
    "    #Combine Df\n",
    "    combined = df.append(importedDfTrimmed)\n",
    "\n",
    "    #Remove Duplicates (not needed because of below)\n",
    "    #dupRemoved = combined.drop_duplicates(keep=False)\n",
    "\n",
    "\n",
    "    #Remove Existing Data\n",
    "    dupRemoved = dataframe_difference(importedDfTrimmed, combined).drop(['_merge'], axis=1)\n",
    "    #dupRemoved = dupRemoved[~dupRemoved.isin(importedDfTrimmed)]\n",
    "\n",
    "\n",
    "    #Append Data\n",
    "    dataToAppend = dupRemoved.values.tolist()\n",
    "    print(dataToAppend)\n",
    "    writeCSV(header, dataToAppend, filename,False)\n"
   ]
  },
  {
   "cell_type": "code",
   "execution_count": 66,
   "id": "0b9fd34c",
   "metadata": {},
   "outputs": [
    {
     "data": {
      "text/html": [
       "<div>\n",
       "<style scoped>\n",
       "    .dataframe tbody tr th:only-of-type {\n",
       "        vertical-align: middle;\n",
       "    }\n",
       "\n",
       "    .dataframe tbody tr th {\n",
       "        vertical-align: top;\n",
       "    }\n",
       "\n",
       "    .dataframe thead th {\n",
       "        text-align: right;\n",
       "    }\n",
       "</style>\n",
       "<table border=\"1\" class=\"dataframe\">\n",
       "  <thead>\n",
       "    <tr style=\"text-align: right;\">\n",
       "      <th></th>\n",
       "      <th>0</th>\n",
       "      <th>1</th>\n",
       "      <th>2</th>\n",
       "    </tr>\n",
       "  </thead>\n",
       "  <tbody>\n",
       "    <tr>\n",
       "      <th>3</th>\n",
       "      <td>$5.39</td>\n",
       "      <td>Regular</td>\n",
       "      <td>06-15-2022</td>\n",
       "    </tr>\n",
       "    <tr>\n",
       "      <th>4</th>\n",
       "      <td>$5.80</td>\n",
       "      <td>Premium</td>\n",
       "      <td>06-15-2022</td>\n",
       "    </tr>\n",
       "    <tr>\n",
       "      <th>5</th>\n",
       "      <td>$5.05</td>\n",
       "      <td>UNL88</td>\n",
       "      <td>06-15-2022</td>\n",
       "    </tr>\n",
       "  </tbody>\n",
       "</table>\n",
       "</div>"
      ],
      "text/plain": [
       "       0        1           2\n",
       "3  $5.39  Regular  06-15-2022\n",
       "4  $5.80  Premium  06-15-2022\n",
       "5  $5.05    UNL88  06-15-2022"
      ]
     },
     "execution_count": 66,
     "metadata": {},
     "output_type": "execute_result"
    }
   ],
   "source": [
    "dataframe_difference(importedDfTrimmed, combined).drop(['_merge'], axis=1)"
   ]
  },
  {
   "cell_type": "code",
   "execution_count": 106,
   "id": "596b7505",
   "metadata": {},
   "outputs": [
    {
     "data": {
      "text/html": [
       "<div>\n",
       "<style scoped>\n",
       "    .dataframe tbody tr th:only-of-type {\n",
       "        vertical-align: middle;\n",
       "    }\n",
       "\n",
       "    .dataframe tbody tr th {\n",
       "        vertical-align: top;\n",
       "    }\n",
       "\n",
       "    .dataframe thead th {\n",
       "        text-align: right;\n",
       "    }\n",
       "</style>\n",
       "<table border=\"1\" class=\"dataframe\">\n",
       "  <thead>\n",
       "    <tr style=\"text-align: right;\">\n",
       "      <th></th>\n",
       "      <th>0</th>\n",
       "      <th>1</th>\n",
       "      <th>2</th>\n",
       "    </tr>\n",
       "  </thead>\n",
       "  <tbody>\n",
       "    <tr>\n",
       "      <th>0</th>\n",
       "      <td>$5.35</td>\n",
       "      <td>Regular</td>\n",
       "      <td>06-14-2022</td>\n",
       "    </tr>\n",
       "    <tr>\n",
       "      <th>1</th>\n",
       "      <td>$5.75</td>\n",
       "      <td>Premium</td>\n",
       "      <td>06-14-2022</td>\n",
       "    </tr>\n",
       "    <tr>\n",
       "      <th>2</th>\n",
       "      <td>$5.05</td>\n",
       "      <td>UNL88</td>\n",
       "      <td>06-14-2022</td>\n",
       "    </tr>\n",
       "    <tr>\n",
       "      <th>3</th>\n",
       "      <td>$5.39</td>\n",
       "      <td>Regular</td>\n",
       "      <td>06-15-2022</td>\n",
       "    </tr>\n",
       "    <tr>\n",
       "      <th>4</th>\n",
       "      <td>$5.80</td>\n",
       "      <td>Premium</td>\n",
       "      <td>06-15-2022</td>\n",
       "    </tr>\n",
       "    <tr>\n",
       "      <th>5</th>\n",
       "      <td>$5.05</td>\n",
       "      <td>UNL88</td>\n",
       "      <td>06-15-2022</td>\n",
       "    </tr>\n",
       "  </tbody>\n",
       "</table>\n",
       "</div>"
      ],
      "text/plain": [
       "       0        1           2\n",
       "0  $5.35  Regular  06-14-2022\n",
       "1  $5.75  Premium  06-14-2022\n",
       "2  $5.05    UNL88  06-14-2022\n",
       "3  $5.39  Regular  06-15-2022\n",
       "4  $5.80  Premium  06-15-2022\n",
       "5  $5.05    UNL88  06-15-2022"
      ]
     },
     "execution_count": 106,
     "metadata": {},
     "output_type": "execute_result"
    }
   ],
   "source": [
    "importedDf"
   ]
  },
  {
   "cell_type": "code",
   "execution_count": 76,
   "id": "4f72acc0",
   "metadata": {},
   "outputs": [
    {
     "data": {
      "text/plain": [
       "[['$5.35', 'Regular', '06-14-2022'],\n",
       " ['$5.75', 'Premium', '06-14-2022'],\n",
       " ['$5.05', 'UNL88', '06-14-2022'],\n",
       " ['$5.39', 'Regular', '06-15-2022'],\n",
       " ['$5.80', 'Premium', '06-15-2022'],\n",
       " ['$5.05', 'UNL88', '06-15-2022']]"
      ]
     },
     "execution_count": 76,
     "metadata": {},
     "output_type": "execute_result"
    }
   ],
   "source": [
    "importedData"
   ]
  },
  {
   "cell_type": "code",
   "execution_count": 77,
   "id": "8e4392d6",
   "metadata": {},
   "outputs": [
    {
     "data": {
      "text/html": [
       "<div>\n",
       "<style scoped>\n",
       "    .dataframe tbody tr th:only-of-type {\n",
       "        vertical-align: middle;\n",
       "    }\n",
       "\n",
       "    .dataframe tbody tr th {\n",
       "        vertical-align: top;\n",
       "    }\n",
       "\n",
       "    .dataframe thead th {\n",
       "        text-align: right;\n",
       "    }\n",
       "</style>\n",
       "<table border=\"1\" class=\"dataframe\">\n",
       "  <thead>\n",
       "    <tr style=\"text-align: right;\">\n",
       "      <th></th>\n",
       "      <th>0</th>\n",
       "      <th>1</th>\n",
       "      <th>2</th>\n",
       "    </tr>\n",
       "  </thead>\n",
       "  <tbody>\n",
       "    <tr>\n",
       "      <th>0</th>\n",
       "      <td>$5.39</td>\n",
       "      <td>Regular</td>\n",
       "      <td>06-15-2022</td>\n",
       "    </tr>\n",
       "    <tr>\n",
       "      <th>1</th>\n",
       "      <td>$5.80</td>\n",
       "      <td>Premium</td>\n",
       "      <td>06-15-2022</td>\n",
       "    </tr>\n",
       "    <tr>\n",
       "      <th>2</th>\n",
       "      <td>$5.05</td>\n",
       "      <td>UNL88</td>\n",
       "      <td>06-15-2022</td>\n",
       "    </tr>\n",
       "  </tbody>\n",
       "</table>\n",
       "</div>"
      ],
      "text/plain": [
       "       0        1           2\n",
       "0  $5.39  Regular  06-15-2022\n",
       "1  $5.80  Premium  06-15-2022\n",
       "2  $5.05    UNL88  06-15-2022"
      ]
     },
     "execution_count": 77,
     "metadata": {},
     "output_type": "execute_result"
    }
   ],
   "source": [
    "df"
   ]
  },
  {
   "cell_type": "code",
   "execution_count": 84,
   "id": "f4ed4435",
   "metadata": {},
   "outputs": [],
   "source": [
    "f = pd.unique(importedDf.iloc[:, 2]).tolist()"
   ]
  },
  {
   "cell_type": "code",
   "execution_count": 99,
   "id": "70eeb07b",
   "metadata": {},
   "outputs": [
    {
     "data": {
      "text/plain": [
       "0     True\n",
       "1     True\n",
       "2     True\n",
       "3    False\n",
       "4    False\n",
       "5    False\n",
       "dtype: bool"
      ]
     },
     "execution_count": 99,
     "metadata": {},
     "output_type": "execute_result"
    }
   ],
   "source": [
    "(importedDf == f[0]).any(axis=1)"
   ]
  },
  {
   "cell_type": "code",
   "execution_count": 103,
   "id": "72c573b9",
   "metadata": {},
   "outputs": [
    {
     "data": {
      "text/plain": [
       "['06-14-2022', '06-15-2022']"
      ]
     },
     "execution_count": 103,
     "metadata": {},
     "output_type": "execute_result"
    }
   ],
   "source": [
    "f"
   ]
  },
  {
   "cell_type": "code",
   "execution_count": 105,
   "id": "84db2858",
   "metadata": {},
   "outputs": [
    {
     "ename": "IndexError",
     "evalue": "list index out of range",
     "output_type": "error",
     "traceback": [
      "\u001b[1;31m---------------------------------------------------------------------------\u001b[0m",
      "\u001b[1;31mIndexError\u001b[0m                                Traceback (most recent call last)",
      "\u001b[1;32m<ipython-input-105-a19b006de38e>\u001b[0m in \u001b[0;36m<module>\u001b[1;34m\u001b[0m\n\u001b[1;32m----> 1\u001b[1;33m \u001b[0mimportedDf\u001b[0m\u001b[1;33m[\u001b[0m\u001b[1;33m(\u001b[0m\u001b[0mimportedDf\u001b[0m \u001b[1;33m==\u001b[0m \u001b[0mf\u001b[0m\u001b[1;33m[\u001b[0m\u001b[1;33m-\u001b[0m\u001b[1;36m3\u001b[0m\u001b[1;33m]\u001b[0m\u001b[1;33m)\u001b[0m\u001b[1;33m.\u001b[0m\u001b[0many\u001b[0m\u001b[1;33m(\u001b[0m\u001b[0maxis\u001b[0m\u001b[1;33m=\u001b[0m\u001b[1;36m1\u001b[0m\u001b[1;33m)\u001b[0m\u001b[1;33m]\u001b[0m\u001b[1;33m\u001b[0m\u001b[1;33m\u001b[0m\u001b[0m\n\u001b[0m",
      "\u001b[1;31mIndexError\u001b[0m: list index out of range"
     ]
    }
   ],
   "source": [
    "importedDf[(importedDf == f[-3]).any(axis=1)]"
   ]
  },
  {
   "cell_type": "code",
   "execution_count": 52,
   "id": "e4aef588",
   "metadata": {},
   "outputs": [
    {
     "data": {
      "text/html": [
       "<div>\n",
       "<style scoped>\n",
       "    .dataframe tbody tr th:only-of-type {\n",
       "        vertical-align: middle;\n",
       "    }\n",
       "\n",
       "    .dataframe tbody tr th {\n",
       "        vertical-align: top;\n",
       "    }\n",
       "\n",
       "    .dataframe thead th {\n",
       "        text-align: right;\n",
       "    }\n",
       "</style>\n",
       "<table border=\"1\" class=\"dataframe\">\n",
       "  <thead>\n",
       "    <tr style=\"text-align: right;\">\n",
       "      <th></th>\n",
       "      <th>0</th>\n",
       "      <th>1</th>\n",
       "      <th>2</th>\n",
       "    </tr>\n",
       "  </thead>\n",
       "  <tbody>\n",
       "    <tr>\n",
       "      <th>0</th>\n",
       "      <td>$5.39</td>\n",
       "      <td>Regular</td>\n",
       "      <td>06-15-2022</td>\n",
       "    </tr>\n",
       "    <tr>\n",
       "      <th>1</th>\n",
       "      <td>$5.80</td>\n",
       "      <td>Premium</td>\n",
       "      <td>06-15-2022</td>\n",
       "    </tr>\n",
       "    <tr>\n",
       "      <th>2</th>\n",
       "      <td>$5.05</td>\n",
       "      <td>UNL88</td>\n",
       "      <td>06-15-2022</td>\n",
       "    </tr>\n",
       "    <tr>\n",
       "      <th>0</th>\n",
       "      <td>$5.35</td>\n",
       "      <td>Regular</td>\n",
       "      <td>06-14-2022</td>\n",
       "    </tr>\n",
       "    <tr>\n",
       "      <th>1</th>\n",
       "      <td>$5.75</td>\n",
       "      <td>Premium</td>\n",
       "      <td>06-14-2022</td>\n",
       "    </tr>\n",
       "    <tr>\n",
       "      <th>2</th>\n",
       "      <td>$5.05</td>\n",
       "      <td>UNL88</td>\n",
       "      <td>06-14-2022</td>\n",
       "    </tr>\n",
       "  </tbody>\n",
       "</table>\n",
       "</div>"
      ],
      "text/plain": [
       "       0        1           2\n",
       "0  $5.39  Regular  06-15-2022\n",
       "1  $5.80  Premium  06-15-2022\n",
       "2  $5.05    UNL88  06-15-2022\n",
       "0  $5.35  Regular  06-14-2022\n",
       "1  $5.75  Premium  06-14-2022\n",
       "2  $5.05    UNL88  06-14-2022"
      ]
     },
     "execution_count": 52,
     "metadata": {},
     "output_type": "execute_result"
    }
   ],
   "source": [
    "dupRemoved"
   ]
  },
  {
   "cell_type": "raw",
   "id": "5389abfe",
   "metadata": {},
   "source": [
    "'''"
   ]
  },
  {
   "cell_type": "code",
   "execution_count": 9,
   "id": "2b4cf373",
   "metadata": {},
   "outputs": [
    {
     "name": "stderr",
     "output_type": "stream",
     "text": [
      "\n",
      "\n",
      "====== WebDriver manager ======\n",
      "Current google-chrome version is 102.0.5005\n",
      "Get LATEST driver version for 102.0.5005\n",
      "Driver [C:\\Users\\truee\\.wdm\\drivers\\chromedriver\\win32\\102.0.5005.61\\chromedriver.exe] found in cache\n"
     ]
    },
    {
     "name": "stdout",
     "output_type": "stream",
     "text": [
      "4\n",
      "4\n",
      "4\n",
      "ARCO in Roseville (1139 Douglas Blvd)\n",
      "$6.29\n",
      "Regular\n",
      "21 hours ago\n",
      "ARCO in Roseville (1139 Douglas Blvd)\n",
      "ARCO_in_Roseville_(1139_Douglas_Blvd).txt\n",
      "06-14-2022\n",
      "[['$6.29', 'Regular', '06-15-2022'], ['$6.49', 'Midgrade', '06-15-2022'], ['$6.59', 'Premium', '06-15-2022'], ['$6.99', 'Diesel', '06-15-2022'], ['$6.29', 'Regular', '06-14-2022'], ['$6.49', 'Midgrade', '06-14-2022'], ['$6.59', 'Premium', '06-14-2022'], ['$6.99', 'Diesel', '06-14-2022']]\n"
     ]
    }
   ],
   "source": [
    "#getData(\"https://www.gasbuddy.com/station/36156\")"
   ]
  },
  {
   "cell_type": "code",
   "execution_count": null,
   "id": "a7063c2b",
   "metadata": {
    "scrolled": true
   },
   "outputs": [],
   "source": [
    "command = str(sys.argv[1]).replace(\"\\'\", \"\")\n",
    "getData(command)"
   ]
  }
 ],
 "metadata": {
  "kernelspec": {
   "display_name": "Python 3 (ipykernel)",
   "language": "python",
   "name": "python3"
  },
  "language_info": {
   "codemirror_mode": {
    "name": "ipython",
    "version": 3
   },
   "file_extension": ".py",
   "mimetype": "text/x-python",
   "name": "python",
   "nbconvert_exporter": "python",
   "pygments_lexer": "ipython3",
   "version": "3.9.7"
  }
 },
 "nbformat": 4,
 "nbformat_minor": 5
}
